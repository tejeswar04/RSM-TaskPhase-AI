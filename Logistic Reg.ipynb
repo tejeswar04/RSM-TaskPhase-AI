{
 "cells": [
  {
   "cell_type": "code",
   "execution_count": 1,
   "id": "9ffb89c4",
   "metadata": {},
   "outputs": [],
   "source": [
    "import numpy as np\n",
    "import pandas as pd\n",
    "import matplotlib.pyplot as plt\n",
    "import math\n",
    "from sklearn import metrics"
   ]
  },
  {
   "cell_type": "code",
   "execution_count": 2,
   "id": "3b082fb7",
   "metadata": {},
   "outputs": [],
   "source": [
    "data=pd.read_csv('train_Logistic.csv')"
   ]
  },
  {
   "cell_type": "code",
   "execution_count": 3,
   "id": "5bea86f6",
   "metadata": {},
   "outputs": [],
   "source": [
    "data=data.drop(['Name'],axis=1)"
   ]
  },
  {
   "cell_type": "code",
   "execution_count": 4,
   "id": "73f97d96",
   "metadata": {},
   "outputs": [
    {
     "data": {
      "text/html": [
       "<div>\n",
       "<style scoped>\n",
       "    .dataframe tbody tr th:only-of-type {\n",
       "        vertical-align: middle;\n",
       "    }\n",
       "\n",
       "    .dataframe tbody tr th {\n",
       "        vertical-align: top;\n",
       "    }\n",
       "\n",
       "    .dataframe thead th {\n",
       "        text-align: right;\n",
       "    }\n",
       "</style>\n",
       "<table border=\"1\" class=\"dataframe\">\n",
       "  <thead>\n",
       "    <tr style=\"text-align: right;\">\n",
       "      <th></th>\n",
       "      <th>Survived</th>\n",
       "      <th>Pclass</th>\n",
       "      <th>Sex</th>\n",
       "      <th>Age</th>\n",
       "      <th>Siblings/Spouses Aboard</th>\n",
       "      <th>Parents/Children Aboard</th>\n",
       "      <th>Fare</th>\n",
       "    </tr>\n",
       "  </thead>\n",
       "  <tbody>\n",
       "    <tr>\n",
       "      <th>0</th>\n",
       "      <td>0</td>\n",
       "      <td>3</td>\n",
       "      <td>male</td>\n",
       "      <td>22.0</td>\n",
       "      <td>1</td>\n",
       "      <td>0</td>\n",
       "      <td>7.2500</td>\n",
       "    </tr>\n",
       "    <tr>\n",
       "      <th>1</th>\n",
       "      <td>1</td>\n",
       "      <td>1</td>\n",
       "      <td>female</td>\n",
       "      <td>38.0</td>\n",
       "      <td>1</td>\n",
       "      <td>0</td>\n",
       "      <td>71.2833</td>\n",
       "    </tr>\n",
       "    <tr>\n",
       "      <th>2</th>\n",
       "      <td>1</td>\n",
       "      <td>3</td>\n",
       "      <td>female</td>\n",
       "      <td>26.0</td>\n",
       "      <td>0</td>\n",
       "      <td>0</td>\n",
       "      <td>7.9250</td>\n",
       "    </tr>\n",
       "    <tr>\n",
       "      <th>3</th>\n",
       "      <td>1</td>\n",
       "      <td>1</td>\n",
       "      <td>female</td>\n",
       "      <td>35.0</td>\n",
       "      <td>1</td>\n",
       "      <td>0</td>\n",
       "      <td>53.1000</td>\n",
       "    </tr>\n",
       "    <tr>\n",
       "      <th>4</th>\n",
       "      <td>0</td>\n",
       "      <td>3</td>\n",
       "      <td>male</td>\n",
       "      <td>35.0</td>\n",
       "      <td>0</td>\n",
       "      <td>0</td>\n",
       "      <td>8.0500</td>\n",
       "    </tr>\n",
       "    <tr>\n",
       "      <th>...</th>\n",
       "      <td>...</td>\n",
       "      <td>...</td>\n",
       "      <td>...</td>\n",
       "      <td>...</td>\n",
       "      <td>...</td>\n",
       "      <td>...</td>\n",
       "      <td>...</td>\n",
       "    </tr>\n",
       "    <tr>\n",
       "      <th>572</th>\n",
       "      <td>0</td>\n",
       "      <td>3</td>\n",
       "      <td>male</td>\n",
       "      <td>19.0</td>\n",
       "      <td>0</td>\n",
       "      <td>0</td>\n",
       "      <td>14.5000</td>\n",
       "    </tr>\n",
       "    <tr>\n",
       "      <th>573</th>\n",
       "      <td>1</td>\n",
       "      <td>2</td>\n",
       "      <td>female</td>\n",
       "      <td>34.0</td>\n",
       "      <td>0</td>\n",
       "      <td>0</td>\n",
       "      <td>13.0000</td>\n",
       "    </tr>\n",
       "    <tr>\n",
       "      <th>574</th>\n",
       "      <td>1</td>\n",
       "      <td>1</td>\n",
       "      <td>female</td>\n",
       "      <td>39.0</td>\n",
       "      <td>1</td>\n",
       "      <td>0</td>\n",
       "      <td>55.9000</td>\n",
       "    </tr>\n",
       "    <tr>\n",
       "      <th>575</th>\n",
       "      <td>0</td>\n",
       "      <td>3</td>\n",
       "      <td>female</td>\n",
       "      <td>18.0</td>\n",
       "      <td>1</td>\n",
       "      <td>0</td>\n",
       "      <td>14.4583</td>\n",
       "    </tr>\n",
       "    <tr>\n",
       "      <th>576</th>\n",
       "      <td>1</td>\n",
       "      <td>3</td>\n",
       "      <td>male</td>\n",
       "      <td>32.0</td>\n",
       "      <td>0</td>\n",
       "      <td>0</td>\n",
       "      <td>7.9250</td>\n",
       "    </tr>\n",
       "  </tbody>\n",
       "</table>\n",
       "<p>577 rows × 7 columns</p>\n",
       "</div>"
      ],
      "text/plain": [
       "     Survived  Pclass     Sex   Age  Siblings/Spouses Aboard  \\\n",
       "0           0       3    male  22.0                        1   \n",
       "1           1       1  female  38.0                        1   \n",
       "2           1       3  female  26.0                        0   \n",
       "3           1       1  female  35.0                        1   \n",
       "4           0       3    male  35.0                        0   \n",
       "..        ...     ...     ...   ...                      ...   \n",
       "572         0       3    male  19.0                        0   \n",
       "573         1       2  female  34.0                        0   \n",
       "574         1       1  female  39.0                        1   \n",
       "575         0       3  female  18.0                        1   \n",
       "576         1       3    male  32.0                        0   \n",
       "\n",
       "     Parents/Children Aboard     Fare  \n",
       "0                          0   7.2500  \n",
       "1                          0  71.2833  \n",
       "2                          0   7.9250  \n",
       "3                          0  53.1000  \n",
       "4                          0   8.0500  \n",
       "..                       ...      ...  \n",
       "572                        0  14.5000  \n",
       "573                        0  13.0000  \n",
       "574                        0  55.9000  \n",
       "575                        0  14.4583  \n",
       "576                        0   7.9250  \n",
       "\n",
       "[577 rows x 7 columns]"
      ]
     },
     "execution_count": 4,
     "metadata": {},
     "output_type": "execute_result"
    }
   ],
   "source": [
    "data"
   ]
  },
  {
   "cell_type": "code",
   "execution_count": 5,
   "id": "18b30a01",
   "metadata": {},
   "outputs": [],
   "source": [
    "x_train=np.array(data.iloc[:,1:7])\n",
    "y_train=np.array(data.iloc[:,:1])"
   ]
  },
  {
   "cell_type": "code",
   "execution_count": 6,
   "id": "a87fbe7f",
   "metadata": {},
   "outputs": [],
   "source": [
    "for i in range(577):\n",
    "    if x_train[i,1]=='male':\n",
    "        x_train[i,1]=1\n",
    "    if x_train[i,1]=='female':\n",
    "        x_train[i,1]=0"
   ]
  },
  {
   "cell_type": "code",
   "execution_count": 7,
   "id": "cf56464a",
   "metadata": {},
   "outputs": [],
   "source": [
    "#x_train=(x_train-x_train.mean())/x_train.std()\n",
    "x_train=x_train/np.max(x_train)"
   ]
  },
  {
   "cell_type": "code",
   "execution_count": 8,
   "id": "13b1b723",
   "metadata": {
    "scrolled": false
   },
   "outputs": [
    {
     "data": {
      "text/plain": [
       "array([[0.005855610025741261, 0.0019518700085804205, 0.04294114018876925,\n",
       "        0.0019518700085804205, 0.0, 0.014151057562208049],\n",
       "       [0.0019518700085804205, 0.0, 0.07417106032605598,\n",
       "        0.0019518700085804205, 0.0, 0.13913573538264068],\n",
       "       [0.005855610025741261, 0.0, 0.050748620223090936, 0.0, 0.0,\n",
       "        0.015468569817999833],\n",
       "       ...,\n",
       "       [0.0019518700085804205, 0.0, 0.0761229303346364,\n",
       "        0.0019518700085804205, 0.0, 0.1091095334796455],\n",
       "       [0.005855610025741261, 0.0, 0.03513366015444757,\n",
       "        0.0019518700085804205, 0.0, 0.028220722145058292],\n",
       "       [0.005855610025741261, 0.0019518700085804205, 0.06245984027457346,\n",
       "        0.0, 0.0, 0.015468569817999833]], dtype=object)"
      ]
     },
     "execution_count": 8,
     "metadata": {},
     "output_type": "execute_result"
    }
   ],
   "source": [
    "x_train"
   ]
  },
  {
   "cell_type": "code",
   "execution_count": 9,
   "id": "b508b911",
   "metadata": {},
   "outputs": [],
   "source": [
    "w=np.zeros(6)\n",
    "b=0\n",
    "alpha=5*10**-3"
   ]
  },
  {
   "cell_type": "code",
   "execution_count": 10,
   "id": "9739db11",
   "metadata": {},
   "outputs": [],
   "source": [
    "def sigmoid(w,x,b):\n",
    "    e=math.e\n",
    "    g=np.dot(x, w)+b\n",
    "    a=1+(e**((-1)*g))\n",
    "    return 1/a"
   ]
  },
  {
   "cell_type": "code",
   "execution_count": 11,
   "id": "621ca655",
   "metadata": {},
   "outputs": [],
   "source": [
    "def log(a):\n",
    "    return np.log(a + 0.0001)"
   ]
  },
  {
   "cell_type": "code",
   "execution_count": 12,
   "id": "b694a966",
   "metadata": {},
   "outputs": [],
   "source": [
    "def CostFunc(w,x,y,b):\n",
    "    c=0\n",
    "    #print(x)\n",
    "    for i in range(len(x)):\n",
    "        #print(x[i])\n",
    "        #print(sigmoid(w,x[i],b))\n",
    "        c=c+((-1)*y[i]*log(sigmoid(w,x[i],b)))+((-1)*(y[i]-1)*log(1-sigmoid(w,x[i],b)))\n",
    "    c=(-1)*c/len(x)\n",
    "    return c"
   ]
  },
  {
   "cell_type": "code",
   "execution_count": 13,
   "id": "3f896d57",
   "metadata": {},
   "outputs": [],
   "source": [
    "def Gradient(x,y,w,b):\n",
    "    m=len(x)\n",
    "    n=len(x[0])\n",
    "    dj_dw=np.zeros(6)\n",
    "    dj_db=0\n",
    "    for i in range(m):\n",
    "        er=(sigmoid(w,x[i],b)-y[i])\n",
    "        for j in range(n):\n",
    "            dj_dw[j] = dj_dw[j] + er * x[i, j]\n",
    "        dj_db=dj_db+er\n",
    "    w=w-dj_dw*(alpha)\n",
    "    b=b-dj_db*(alpha)\n",
    "    #print(b)\n",
    "    return w,b"
   ]
  },
  {
   "cell_type": "code",
   "execution_count": 14,
   "id": "f4fe9463",
   "metadata": {},
   "outputs": [],
   "source": [
    "epochs=100\n",
    "iterations=[]\n",
    "costs = []\n",
    "for i in range(epochs):\n",
    "    w,b=Gradient(x_train,y_train,w,b)\n",
    "    costs.append(CostFunc(w,x_train,y_train,b))\n",
    "    iterations.append(i)"
   ]
  },
  {
   "cell_type": "code",
   "execution_count": 15,
   "id": "97c3f96a",
   "metadata": {},
   "outputs": [
    {
     "data": {
      "image/png": "[encoded data removed]",
      "text/plain": [
       "<Figure size 640x480 with 1 Axes>"
      ]
     },
     "metadata": {},
     "output_type": "display_data"
    }
   ],
   "source": [
    "plt.plot(iterations,costs)\n",
    "plt.show()"
   ]
  },
  {
   "cell_type": "code",
   "execution_count": 16,
   "id": "447a5963",
   "metadata": {},
   "outputs": [],
   "source": [
    "t = np.array(sigmoid(w, x_train, b) >= 0.5, dtype=np.intp)"
   ]
  },
  {
   "cell_type": "code",
   "execution_count": 17,
   "id": "22f848c9",
   "metadata": {},
   "outputs": [
    {
     "data": {
      "text/plain": [
       "0.6031195840554593"
      ]
     },
     "execution_count": 17,
     "metadata": {},
     "output_type": "execute_result"
    }
   ],
   "source": [
    "sum(t == y_train.T[0])/y_train.shape[0]"
   ]
  },
  {
   "cell_type": "code",
   "execution_count": 18,
   "id": "b1ab2481",
   "metadata": {},
   "outputs": [
    {
     "data": {
      "text/plain": [
       "(array([-0.05980366, -0.07360106, -0.30291932, -0.0192382 ,  0.01446932,\n",
       "         1.89330412]),\n",
       " array([-0.5191045]))"
      ]
     },
     "execution_count": 18,
     "metadata": {},
     "output_type": "execute_result"
    }
   ],
   "source": [
    "w, b"
   ]
  },
  {
   "cell_type": "code",
   "execution_count": 19,
   "id": "af6c3c50",
   "metadata": {},
   "outputs": [
    {
     "data": {
      "text/plain": [
       "array([0, 0, 0, 0, 0, 0, 0, 0, 0, 0, 0, 0, 0, 0, 0, 0, 0, 0, 0, 0, 0, 0,\n",
       "       0, 0, 0, 0, 0, 1, 0, 0, 0, 0, 0, 0, 0, 0, 0, 0, 0, 0, 0, 0, 0, 0,\n",
       "       0, 0, 0, 0, 0, 0, 0, 0, 0, 0, 0, 0, 0, 0, 0, 0, 0, 0, 0, 0, 0, 0,\n",
       "       0, 0, 0, 0, 0, 0, 0, 0, 0, 0, 0, 0, 0, 0, 0, 0, 0, 0, 0, 0, 0, 1,\n",
       "       0, 0, 0, 0, 0, 0, 0, 0, 0, 0, 0, 0, 0, 0, 0, 0, 0, 0, 0, 0, 0, 0,\n",
       "       0, 0, 0, 0, 0, 0, 0, 1, 0, 0, 0, 0, 0, 0, 0, 0, 0, 0, 0, 0, 0, 0,\n",
       "       0, 0, 0, 0, 0, 0, 0, 0, 0, 0, 0, 0, 0, 0, 0, 0, 0, 0, 0, 0, 0, 0,\n",
       "       0, 0, 0, 0, 0, 0, 0, 0, 0, 0, 0, 0, 0, 0, 0, 0, 0, 0, 0, 0, 0, 0,\n",
       "       0, 0, 0, 0, 0, 0, 0, 0, 0, 0, 0, 0, 0, 0, 0, 0, 0, 0, 0, 0, 0, 0,\n",
       "       0, 0, 0, 0, 0, 0, 0, 0, 0, 0, 0, 0, 0, 0, 0, 0, 0, 0, 0, 0, 0, 0,\n",
       "       0, 0, 0, 0, 0, 0, 0, 0, 0, 0, 0, 0, 0, 0, 0, 0, 0, 0, 0, 0, 0, 0,\n",
       "       0, 0, 0, 0, 0, 0, 0, 0, 0, 0, 0, 0, 0, 0, 0, 1, 0, 0, 0, 0, 0, 0,\n",
       "       0, 0, 1, 0, 0, 0, 0, 0, 0, 0, 0, 0, 0, 0, 0, 0, 0, 0, 0, 0, 0, 0,\n",
       "       0, 0, 0, 0, 0, 0, 0, 0, 0, 1, 0, 1, 0, 0, 0, 0, 0, 1, 0, 0, 0, 0,\n",
       "       0, 1, 0, 0, 0, 0, 0, 0, 1, 0, 0, 0, 0, 0, 0, 0, 0, 0, 0, 0, 0, 0,\n",
       "       1, 0, 0, 0, 0, 0, 0, 0, 0, 1, 0, 0, 0, 0, 0, 0, 0, 0, 0, 0, 0, 0,\n",
       "       0, 0, 0, 0, 0, 0, 0, 0, 0, 0, 0, 0, 0, 0, 0, 0, 0, 0, 0, 0, 0, 0,\n",
       "       0, 1, 0, 0, 1, 0, 0, 0, 0, 0, 0, 0, 0, 0, 0, 0, 0, 0, 0, 0, 0, 0,\n",
       "       0, 0, 0, 0, 0, 0, 0, 0, 0, 0, 0, 0, 0, 0, 0, 0, 0, 0, 0, 0, 0, 0,\n",
       "       0, 0, 0, 0, 0, 0, 0, 0, 0, 0, 0, 0, 0, 0, 0, 0, 0, 1, 0, 0, 0, 0,\n",
       "       0, 0, 0, 0, 0, 0, 0, 0, 0, 0, 0, 0, 0, 0, 0, 0, 0, 0, 0, 0, 0, 0,\n",
       "       0, 0, 0, 0, 0, 0, 0, 0, 0, 0, 0, 0, 0, 0, 0, 0, 0, 0, 0, 0, 0, 0,\n",
       "       0, 0, 0, 0, 0, 0, 0, 0, 0, 0, 0, 1, 0, 0, 0, 0, 0, 0, 0, 0, 0, 0,\n",
       "       0, 0, 0, 0, 0, 0, 0, 0, 0, 0, 0, 0, 0, 0, 0, 0, 0, 0, 1, 0, 0, 0,\n",
       "       0, 0, 0, 0, 0, 0, 0, 0, 0, 0, 0, 0, 0, 0, 0, 0, 0, 0, 0, 0, 0, 0,\n",
       "       0, 0, 0, 0, 1, 0, 0, 0, 0, 0, 0, 0, 0, 0, 0, 0, 0, 0, 0, 0, 0, 0,\n",
       "       0, 0, 0, 0, 0], dtype=int64)"
      ]
     },
     "execution_count": 19,
     "metadata": {},
     "output_type": "execute_result"
    }
   ],
   "source": [
    "t"
   ]
  },
  {
   "cell_type": "code",
   "execution_count": 20,
   "id": "9b6abc40",
   "metadata": {},
   "outputs": [],
   "source": [
    "test=pd.read_csv('test_Logistic.csv')"
   ]
  },
  {
   "cell_type": "code",
   "execution_count": 21,
   "id": "f83f46fc",
   "metadata": {},
   "outputs": [],
   "source": [
    "test=test.drop(['Name'],axis=1)\n",
    "x_test=np.array(test.iloc[:,1:7])\n",
    "y_test=np.array(test.iloc[:,:1])"
   ]
  },
  {
   "cell_type": "code",
   "execution_count": 22,
   "id": "c2091e32",
   "metadata": {},
   "outputs": [],
   "source": [
    "for i in range(310):\n",
    "    if x_test[i,1]=='male':\n",
    "        x_test[i,1]=1\n",
    "    if x_test[i,1]=='female':\n",
    "        x_test[i,1]=0"
   ]
  },
  {
   "cell_type": "code",
   "execution_count": 23,
   "id": "2efa17ed",
   "metadata": {},
   "outputs": [],
   "source": [
    "x_test=((x_test-x_test.mean()))/x_test.std()"
   ]
  },
  {
   "cell_type": "code",
   "execution_count": 24,
   "id": "07d20507",
   "metadata": {
    "scrolled": true
   },
   "outputs": [
    {
     "data": {
      "text/plain": [
       "array([[-0.33409588539222074, -0.4075653718674399, 0.5108032090728001,\n",
       "        -0.37083062862983035, -0.37083062862983035, 0.694476925260848],\n",
       "       [-0.37083062862983035, -0.4075653718674399, 1.0250896143993344,\n",
       "        -0.37083062862983035, -0.37083062862983035, 3.6657041829713966],\n",
       "       [-0.33409588539222074, -0.37083062862983035, 1.5761107629634785,\n",
       "        -0.4075653718674399, -0.4075653718674399, 0.5475379523104096],\n",
       "       ...,\n",
       "       [-0.2973611421546111, -0.4075653718674399, -0.15042216920417273,\n",
       "        -0.37083062862983035, -0.33409588539222074, 0.4538643570545051],\n",
       "       [-0.37083062862983035, -0.37083062862983035, 0.5475379523104096,\n",
       "        -0.4075653718674399, -0.4075653718674399, 0.694476925260848],\n",
       "       [-0.2973611421546111, -0.37083062862983035, 0.7679464117360673,\n",
       "        -0.4075653718674399, -0.4075653718674399, -0.12287111177596553]],\n",
       "      dtype=object)"
      ]
     },
     "execution_count": 24,
     "metadata": {},
     "output_type": "execute_result"
    }
   ],
   "source": [
    "x_test"
   ]
  },
  {
   "cell_type": "code",
   "execution_count": 25,
   "id": "25250932",
   "metadata": {},
   "outputs": [],
   "source": [
    "y_predict = np.array(sigmoid(w, x_test, b) >= 0.5, dtype=np.intp)"
   ]
  },
  {
   "cell_type": "code",
   "execution_count": 26,
   "id": "046d9fdf",
   "metadata": {},
   "outputs": [
    {
     "data": {
      "text/plain": [
       "array([1, 1, 1, 1, 0, 1, 0, 1, 0, 0, 0, 1, 0, 0, 1, 1, 1, 0, 0, 1, 1, 0,\n",
       "       1, 0, 1, 0, 0, 1, 1, 1, 1, 0, 0, 0, 0, 1, 0, 0, 1, 0, 0, 1, 0, 0,\n",
       "       0, 1, 0, 1, 0, 0, 1, 0, 1, 0, 1, 0, 0, 1, 1, 0, 0, 1, 1, 1, 1, 1,\n",
       "       0, 1, 0, 0, 0, 1, 0, 0, 0, 1, 0, 0, 0, 1, 1, 0, 1, 0, 0, 1, 0, 0,\n",
       "       0, 1, 1, 1, 0, 0, 0, 0, 0, 0, 1, 1, 0, 1, 0, 1, 1, 1, 1, 0, 0, 1,\n",
       "       1, 0, 1, 0, 1, 0, 0, 0, 1, 0, 1, 1, 0, 0, 0, 1, 0, 1, 1, 0, 1, 1,\n",
       "       1, 0, 0, 0, 1, 0, 0, 1, 0, 0, 0, 1, 0, 1, 0, 1, 0, 1, 1, 0, 0, 0,\n",
       "       0, 1, 1, 0, 0, 1, 1, 1, 0, 0, 1, 1, 0, 1, 0, 1, 0, 0, 0, 1, 0, 0,\n",
       "       0, 0, 1, 0, 0, 0, 1, 0, 1, 1, 0, 1, 0, 0, 0, 0, 0, 0, 0, 0, 0, 0,\n",
       "       1, 0, 1, 1, 1, 0, 0, 0, 1, 1, 1, 0, 1, 1, 1, 0, 0, 1, 0, 0, 1, 0,\n",
       "       1, 1, 0, 0, 0, 0, 0, 0, 1, 0, 1, 0, 1, 0, 0, 0, 1, 0, 1, 1, 0, 0,\n",
       "       0, 1, 0, 1, 1, 0, 1, 0, 1, 0, 0, 0, 1, 0, 0, 1, 1, 0, 0, 1, 0, 0,\n",
       "       0, 1, 0, 1, 1, 1, 0, 0, 1, 1, 0, 1, 1, 0, 0, 0, 0, 1, 1, 0, 0, 0,\n",
       "       1, 0, 0, 0, 1, 0, 0, 1, 0, 0, 0, 0, 1, 1, 0, 0, 0, 0, 1, 0, 1, 1,\n",
       "       1, 0], dtype=int64)"
      ]
     },
     "execution_count": 26,
     "metadata": {},
     "output_type": "execute_result"
    }
   ],
   "source": [
    "y_predict"
   ]
  },
  {
   "cell_type": "code",
   "execution_count": 27,
   "id": "cbc45258",
   "metadata": {
    "scrolled": true
   },
   "outputs": [
    {
     "data": {
      "text/plain": [
       "0.7032258064516129"
      ]
     },
     "execution_count": 27,
     "metadata": {},
     "output_type": "execute_result"
    }
   ],
   "source": [
    "sum(y_predict == y_test.T[0])/310"
   ]
  },
  {
   "cell_type": "code",
   "execution_count": 29,
   "id": "976edd6d",
   "metadata": {},
   "outputs": [
    {
     "data": {
      "image/png": "[encoded data removed]",
      "text/plain": [
       "<Figure size 640x480 with 2 Axes>"
      ]
     },
     "metadata": {},
     "output_type": "display_data"
    }
   ],
   "source": [
    "confusion_matrix = metrics.confusion_matrix(y_test,y_predict)\n",
    "cm_display = metrics.ConfusionMatrixDisplay(confusion_matrix = confusion_matrix, display_labels = [False, True])\n",
    "\n",
    "cm_display.plot()\n",
    "plt.show()\n",
    "Accuracy=metrics.accuracy_score(y_test,y_predict)"
   ]
  },
  {
   "cell_type": "code",
   "execution_count": 30,
   "id": "816d2990",
   "metadata": {},
   "outputs": [
    {
     "data": {
      "text/plain": [
       "0.7032258064516129"
      ]
     },
     "execution_count": 30,
     "metadata": {},
     "output_type": "execute_result"
    }
   ],
   "source": [
    "Accuracy"
   ]
  }
 ],
 "metadata": {
  "kernelspec": {
   "display_name": "Python 3 (ipykernel)",
   "language": "python",
   "name": "python3"
  },
  "language_info": {
   "codemirror_mode": {
    "name": "ipython",
    "version": 3
   },
   "file_extension": ".py",
   "mimetype": "text/x-python",
   "name": "python",
   "nbconvert_exporter": "python",
   "pygments_lexer": "ipython3",
   "version": "3.10.10"
  }
 },
 "nbformat": 4,
 "nbformat_minor": 5
}
